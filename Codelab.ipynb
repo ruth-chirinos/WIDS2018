{
 "cells": [
  {
   "cell_type": "markdown",
   "metadata": {},
   "source": [
    "# Step 1: Import important libraries such as numpy, csv for I/O, sklearn."
   ]
  },
  {
   "cell_type": "code",
   "execution_count": 47,
   "metadata": {
    "collapsed": true
   },
   "outputs": [],
   "source": [
    "import numpy as np\n",
    "import csv as csv\n",
    "from sklearn.ensemble import RandomForestClassifier\n",
    "from sklearn.model_selection import GridSearchCV\n",
    "from sklearn.cross_validation import StratifiedKFold # Add important libs\n"
   ]
  },
  {
   "cell_type": "markdown",
   "metadata": {},
   "source": [
    "# Step 2: Train and Test Preparation: Reading their data and fill it to array."
   ]
  },
  {
   "cell_type": "code",
   "execution_count": 48,
   "metadata": {
    "collapsed": true
   },
   "outputs": [],
   "source": [
    "train=[]\n",
    "test=[]         #Array Definition\n",
    "path1 =  r'data/train.csv'     #Address Definition\n",
    "path2 =  r'data/test.csv'\n",
    "with open(path1, 'r') as f1:    #Open File as read by 'r'\n",
    "    reader = csv.reader(f1)     \n",
    "    next(reader, None)          #Skip header because file header is not needed\n",
    "    for row in reader:          #fill array by file info by for loop\n",
    "        train.append(row)\n",
    "    train = np.array(train)       \t\n",
    "\t\n",
    "with open(path2, 'r') as f2:\n",
    "    reader2 = csv.reader(f2)\n",
    "    next(reader2, None)  \n",
    "    for row2 in  reader2:\n",
    "        test.append(row2)\n",
    "    test = np.array(test)\n",
    "    "
   ]
  },
  {
   "cell_type": "markdown",
   "metadata": {},
   "source": [
    "# Step 3: Delete first column which is related to \"PatientID\" and there is no need to know patientid in our algorithm."
   ]
  },
  {
   "cell_type": "code",
   "execution_count": 49,
   "metadata": {
    "collapsed": true
   },
   "outputs": [],
   "source": [
    "train = np.delete(train,[0],1)  #delete first column of which is patientid\n",
    "test = np.delete(test,[0],1)"
   ]
  },
  {
   "cell_type": "markdown",
   "metadata": {},
   "source": [
    "# Step 4: Refine data manually by replacing gender to integer value."
   ]
  },
  {
   "cell_type": "code",
   "execution_count": 50,
   "metadata": {
    "collapsed": true
   },
   "outputs": [],
   "source": [
    "train[train[0::,3] == 'male', 3] = 1        #replacement gender with number\n",
    "train[train[0::,3] == 'female', 3] = 0\n",
    "test[test[0::,2] == 'male',2] = 1\n",
    "test[test[0::,2] == 'female',2] = 0"
   ]
  },
  {
   "cell_type": "markdown",
   "metadata": {},
   "source": [
    "# Step 5: Refine Data"
   ]
  },
  {
   "cell_type": "code",
   "execution_count": 51,
   "metadata": {
    "collapsed": true
   },
   "outputs": [],
   "source": [
    "for row in  train:\n",
    "\tTitle = row[2].split(',')[1].split('.')[0].strip()   #Extracting Name in order to gain title\n",
    "\trow[2] = Title\n",
    "\n",
    "\t\n",
    "for row in train:       #Fill empty cell o rage column by the below logic\n",
    "\tif (row[4]==''):\n",
    "\t\tif (row[1]=='1' and row[2]=='Miss' and row[3]=='0'):\n",
    "\t\t\trow[4] =30\n",
    "\t\tif (row[1]=='1' and row[2]=='Mrs' and row[3]=='0'):\n",
    "\t\t\trow[4] =40\n",
    "\t\tif (row[1]=='2' and row[2]=='Miss' and row[3]=='0'):\n",
    "\t\t\trow[4] =24\n",
    "\t\tif (row[1]=='2' and row[2]=='Mrs' and row[3]=='0'):\n",
    "\t\t\trow[4] =31.5\n",
    "\t\tif (row[1]=='3' and row[2]=='Miss' and row[3]=='0'):\n",
    "\t\t\trow[4] =18\n",
    "\t\tif (row[1]=='3' and row[2]=='Mrs' and row[3]=='0'):\n",
    "\t\t\trow[4] =31\n",
    "\t\tif (row[1]=='1' and row[2]=='Master' and row[3]=='1'):\n",
    "\t\t\trow[4] =4\n",
    "\t\tif (row[1]=='1' and row[2]=='Mr' and row[3]=='1'):\n",
    "\t\t\trow[4] =40\n",
    "\t\tif (row[1]=='2' and row[2]=='Master' and row[3]=='1'):\n",
    "\t\t\trow[4] =1\n",
    "\t\tif (row[1]=='2' and row[2]=='Mr' and row[3]=='1'):\n",
    "\t\t\trow[4] =31\n",
    "\t\tif (row[1]=='3' and row[2]=='Master' and row[3]=='1'):\n",
    "\t\t\trow[4] =4\n",
    "\t\tif (row[1]=='3' and row[2]=='Mr' and row[3]=='1'):\n",
    "\t\t\trow[4] =26"
   ]
  },
  {
   "cell_type": "code",
   "execution_count": 52,
   "metadata": {
    "collapsed": true
   },
   "outputs": [],
   "source": [
    "for row in  test:\n",
    "\tTitle = row[1].split(',')[1].split('.')[0].strip()\n",
    "\trow[1] = Title\n",
    "\n",
    "\t\n",
    "for row in test:\n",
    "\tif (row[3]==''):\n",
    "\t\tif (row[0]=='1' and row[1]=='Miss' and row[2]=='0'):\n",
    "\t\t\trow[3] =32\n",
    "\t\tif (row[0]=='1' and row[1]=='Mrs' and row[2]=='0'):\n",
    "\t\t\trow[3] =48\n",
    "\t\tif (row[0]=='2' and row[1]=='Miss' and row[2]=='0'):\n",
    "\t\t\trow[3] =19.5\n",
    "\t\tif (row[0]=='2' and row[1]=='Mrs' and row[2]=='0'):\n",
    "\t\t\trow[3] =29\n",
    "\t\tif (row[0]=='3' and row[1]=='Miss' and row[2]=='0'):\n",
    "\t\t\trow[3] =22\n",
    "\t\tif (row[0]=='3' and row[1]=='Mrs' and row[2]=='0'):\n",
    "\t\t\trow[3] =28\n",
    "\t\tif (row[0]=='3' and row[1]=='Ms' and row[2]=='0'):\n",
    "\t\t\trow[3] =22\n",
    "\t\tif (row[0]=='1' and row[1]=='Master' and row[2]=='1'):\n",
    "\t\t\trow[3] =9.5\n",
    "\t\tif (row[0]=='1' and row[1]=='Mr' and row[2]=='1'):\n",
    "\t\t\trow[3] =42\n",
    "\t\tif (row[0]=='2' and row[1]=='Master' and row[2]=='1'):\n",
    "\t\t\trow[3] =5\n",
    "\t\tif (row[0]=='2' and row[1]=='Mr' and row[2]=='1'):\n",
    "\t\t\trow[3] =28\n",
    "\t\tif (row[0]=='3' and row[1]=='Master' and row[2]=='1'):\n",
    "\t\t\trow[3] =7\n",
    "\t\tif (row[0]=='3' and row[1]=='Mr' and row[2]=='1'):\n",
    "\t\t\trow[3] =25"
   ]
  },
  {
   "cell_type": "markdown",
   "metadata": {},
   "source": [
    "# Step 6: Delete unnecessary column."
   ]
  },
  {
   "cell_type": "code",
   "execution_count": 53,
   "metadata": {
    "collapsed": true
   },
   "outputs": [],
   "source": [
    "train = np.delete(train,[2],1) #Delete name column because it is not needed\n",
    "test = np.delete(test,[1],1) "
   ]
  },
  {
   "cell_type": "markdown",
   "metadata": {},
   "source": [
    "# Step 7: Algorithm Optimization by Grid Search."
   ]
  },
  {
   "cell_type": "code",
   "execution_count": 54,
   "metadata": {
    "collapsed": true
   },
   "outputs": [],
   "source": [
    "parameter_gridsearch = {\n",
    "                 'max_depth' : [3, 4],  #depth of each decision tree\n",
    "                 'n_estimators': [50, 20],  #count of decision tree\n",
    "                 'max_features': ['sqrt', 'auto', 'log2'],      \n",
    "                 'min_samples_split': [2],      \n",
    "                 'min_samples_leaf': [1, 3, 4],\n",
    "                 'bootstrap': [True, False],\n",
    "                 }"
   ]
  },
  {
   "cell_type": "markdown",
   "metadata": {},
   "source": [
    "# Step 8: Random Forrest Classifier"
   ]
  },
  {
   "cell_type": "code",
   "execution_count": 55,
   "metadata": {
    "collapsed": true
   },
   "outputs": [],
   "source": [
    "randomforest = RandomForestClassifier()\n",
    "crossvalidation = StratifiedKFold(train[0::,0] , n_folds=5)\n",
    "\n",
    "gridsearch = GridSearchCV(randomforest,             #grid search for algorithm optimization\n",
    "                               scoring='accuracy',\n",
    "                               param_grid=parameter_gridsearch,\n",
    "                               cv=crossvalidation)\n",
    "\n",
    "\n",
    "gridsearch.fit(train[0::,1::], train[0::,0])    #train[0::,0] is as target\n",
    "model = gridsearch\n",
    "parameters = gridsearch.best_params_"
   ]
  },
  {
   "cell_type": "code",
   "execution_count": 60,
   "metadata": {},
   "outputs": [
    {
     "data": {
      "application/vnd.jupyter.widget-view+json": {
       "model_id": "ce6fe3a6b10a44f6bbee13acc5c3e042",
       "version_major": 2,
       "version_minor": 0
      },
      "text/plain": [
       "A Jupyter Widget"
      ]
     },
     "metadata": {},
     "output_type": "display_data"
    }
   ],
   "source": [
    "def fit_randomized_tree(random_state=0):\n",
    "    X, y = train\n",
    "    clf = DecisionTreeClassifier(max_depth=15)\n",
    "    \n",
    "    rng = np.random.RandomState(random_state)\n",
    "    i = np.arange(len(y))\n",
    "    rng.shuffle(i)\n",
    "    visualize_tree(clf, X[i[:250]], y[i[:250]], boundaries=False,\n",
    "                   xlim=(X[:, 0].min(), X[:, 0].max()),\n",
    "                   ylim=(X[:, 1].min(), X[:, 1].max()))\n",
    "    \n",
    "from IPython.html.widgets import interact\n",
    "interact(fit_randomized_tree, random_state=[0, 100]);"
   ]
  },
  {
   "cell_type": "markdown",
   "metadata": {},
   "source": [
    "# Step 9: Score Computation"
   ]
  },
  {
   "cell_type": "code",
   "execution_count": 56,
   "metadata": {},
   "outputs": [
    {
     "name": "stdout",
     "output_type": "stream",
     "text": [
      "Best Score: 0.8571428571428571\n"
     ]
    }
   ],
   "source": [
    "print('Best Score: {}'.format(gridsearch.best_score_))"
   ]
  },
  {
   "cell_type": "markdown",
   "metadata": {},
   "source": [
    "# Step 10: Writing answer into result.csv file."
   ]
  },
  {
   "cell_type": "code",
   "execution_count": 57,
   "metadata": {},
   "outputs": [
    {
     "name": "stdout",
     "output_type": "stream",
     "text": [
      "['0' '1' '0' '0' '0' '0' '1' '0' '0']\n"
     ]
    }
   ],
   "source": [
    "path3 =  r'data/result.csv'\n",
    "\n",
    "output = gridsearch.predict(test)\n",
    "\n",
    "print(output)\n",
    "with open(path3, 'w',  newline='') as f3, open(path2, 'r') as f4: # write output and otherr column from test\n",
    "    forest_Csv = csv.writer(f3)\n",
    "    forest_Csv.writerow([\"PatientId\", \"healed\", \"Hospitalclass\", \"Name\", \"Sex\", \"Age\"])    \n",
    "    test_file_object = csv.reader(f4)\n",
    "    next(test_file_object, None)\n",
    "    i = 0\n",
    "    for row in  test_file_object:\n",
    "        row.insert(1,output[i].astype(np.uint8))\n",
    "        forest_Csv.writerow(row)\n",
    "        i += 1"
   ]
  },
  {
   "cell_type": "code",
   "execution_count": null,
   "metadata": {
    "collapsed": true
   },
   "outputs": [],
   "source": []
  }
 ],
 "metadata": {
  "kernelspec": {
   "display_name": "Python 3",
   "language": "python",
   "name": "python3"
  },
  "language_info": {
   "codemirror_mode": {
    "name": "ipython",
    "version": 3
   },
   "file_extension": ".py",
   "mimetype": "text/x-python",
   "name": "python",
   "nbconvert_exporter": "python",
   "pygments_lexer": "ipython3",
   "version": "3.6.3"
  }
 },
 "nbformat": 4,
 "nbformat_minor": 2
}
